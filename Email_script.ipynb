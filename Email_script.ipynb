{
 "cells": [
  {
   "cell_type": "code",
   "execution_count": 1,
   "metadata": {},
   "outputs": [
    {
     "name": "stdout",
     "output_type": "stream",
     "text": [
      "licmartinez827@gmail.com\n",
      "watsoncredd@gmail.com\n"
     ]
    }
   ],
   "source": [
    "import gspread\n",
    "from oauth2client.service_account import ServiceAccountCredentials\n",
    "import yagmail\n",
    "import openpyxl\n",
    "\n",
    "# Configurar las credenciales para acceder a Google Sheets\n",
    "scope = ['https://spreadsheets.google.com/feeds', 'https://www.googleapis.com/auth/drive']\n",
    "credentials = ServiceAccountCredentials.from_json_keyfile_name(r'C:\\Users\\JOSUE\\OneDrive\\Desktop\\Flask\\earnest-entry-380719-e923307ba41b.json', scope)\n",
    "client = gspread.authorize(credentials)\n",
    "\n",
    "# Abrir la hoja de cálculo de Google Sheets y seleccionar la hoja de trabajo\n",
    "hoja_google = client.open('Inscripcion (Respuestas)')  # Cambia al nombre de tu hoja de cálculo\n",
    "worksheet = hoja_google.get_worksheet(0)  # Cambia el índice según la hoja que necesites\n",
    "\n",
    "# Recopilar las direcciones de correo de la hoja de cálculo\n",
    "email_addresses = [row[1] for row in worksheet.get_all_values()[1:]]  # Excluye la primera fila de encabezados\n",
    "\n",
    "\n",
    "# Imprime las direcciones de correo electrónico\n",
    "for address in email_addresses:\n",
    "    print(address)\n",
    "\n",
    "# Configurar tus credenciales de correo electrónico\n",
    "email = 'licmartinez827@gmail.com'\n",
    "password = 'rkdnkmqrltrhharq'\n",
    "\n",
    "# Inicializar el cliente de correo\n",
    "yag = yagmail.SMTP(email, password)\n",
    "\n",
    "# Recorre las direcciones de correo y envía correos\n",
    "for destinatario in email_addresses:\n",
    "    # Crea el mensaje\n",
    "    subject = 'Asunto del correo(test)'\n",
    "    body = 'Cuerpo del correo(ponemos lo necesario)'\n",
    "    archivo_adjunto = '/foto_perfil2.jpg'  # Opcional, si deseas adjuntar archivos\n",
    "\n",
    "    # Envía el correo\n",
    "    yag.send(\n",
    "        to=destinatario,\n",
    "        subject=subject,\n",
    "        contents=[body, archivo_adjunto],\n",
    "    )\n",
    "\n",
    "\n",
    "# Cierra el cliente de correo\n",
    "yag.close()\n",
    "\n",
    "\n",
    "\n"
   ]
  }
 ],
 "metadata": {
  "kernelspec": {
   "display_name": "venv",
   "language": "python",
   "name": "python3"
  },
  "language_info": {
   "codemirror_mode": {
    "name": "ipython",
    "version": 3
   },
   "file_extension": ".py",
   "mimetype": "text/x-python",
   "name": "python",
   "nbconvert_exporter": "python",
   "pygments_lexer": "ipython3",
   "version": "3.11.6"
  }
 },
 "nbformat": 4,
 "nbformat_minor": 2
}
